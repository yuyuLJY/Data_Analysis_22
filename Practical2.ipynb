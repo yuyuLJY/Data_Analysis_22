{
 "cells": [
  {
   "cell_type": "markdown",
   "metadata": {},
   "source": [
    "# Practical 2 : Generative and Discriminative Models\n"
   ]
  },
  {
   "cell_type": "markdown",
   "metadata": {},
   "source": [
    "In this practical, we will compare the Naïve Bayes Classifier (NBC) and Logistic Regression on several\n",
    "datasets. As part of the practical you should read briefly the following paper:\n",
    "\n"
   ]
  },
  {
   "cell_type": "markdown",
   "metadata": {},
   "source": [
    "**On Discriminative vs. Generative classifiers: A comparison of logistic regression\n",
    "and naive Bayes**  \n",
    "*Andrew Y. Ng and Michael I. Jordan*  \n",
    "Advances in Neural Information Processing Systems (NIPS) 2001.\n",
    "\n",
    "The paper is available on OLAT. "
   ]
  },
  {
   "cell_type": "markdown",
   "metadata": {},
   "source": [
    "You should read the Introduction and the Experiments sections. The goal of this practical is\n",
    "to qualitatively reproduce some of the experimental results in this paper. You are strongly\n",
    "encouraged to read the rest of the paper, which is rather short and straightforward to read,\n",
    "though some of you may want to skip the formal proofs."
   ]
  },
  {
   "cell_type": "markdown",
   "metadata": {},
   "source": [
    "## Naïve Bayes Classifier (NBC)"
   ]
  },
  {
   "cell_type": "markdown",
   "metadata": {},
   "source": [
    "You should implement a Naïve Bayes Classifier from scartch using NumPy. To keep your code tidy,\n",
    "we recommend implementing it as a class. \n",
    "The classifier should be able to handle binary and continuous features. \n",
    "To earn the bonus points, the classifier should be able to handle categorical features as well. \n",
    "Suppose the data has 3\n",
    "different features, the first being binary, the second being continuous and the third being categorical. Write an implementation that you can initialise as follows:\n",
    "\n",
    "    nbc = NBC(feature_types=['b', 'r', 'c'])"
   ]
  },
  {
   "cell_type": "markdown",
   "metadata": {},
   "source": [
    "Along the lines of classifiers provided in sklearn, you want to implement two more functions,\n",
    "**fit** and **predict**. \n",
    "Recall the joint distribution of a generative model: $p(\\mathbf{x}, y \\mid \\theta, \\pi) = p(y \\mid \\pi) \\cdot p(\\mathbf{x} \\mid y, \\theta)$.\n",
    "The **fit** function is to estimate all the parameters ($\\theta$ and $\\pi$) of the NBC, i.e., train the classifier. The **predict** function computes the probabilities that the new input belongs to all classes and\n",
    "then returns the class that has the largest probability, i.e., makes a prediction.\n",
    "\n",
    "    nbc.fit(X_train, y_train)\n",
    "    ypredicted = nbc.predict(X_test)\n",
    "    test_accuracy = np.mean(ypredicted == ytest)"
   ]
  },
  {
   "cell_type": "markdown",
   "metadata": {},
   "source": [
    "Here we import the libraries. "
   ]
  },
  {
   "cell_type": "code",
   "execution_count": 12,
   "metadata": {},
   "outputs": [],
   "source": [
    "%matplotlib inline\n",
    "import pylab\n",
    "pylab.rcParams['figure.figsize'] = (10., 10.)\n",
    "\n",
    "import pickle as cp\n",
    "import matplotlib.pyplot as plt\n",
    "import numpy as np\n",
    "from scipy.stats import norm, bernoulli, multinomial\n",
    "from collections import Counter\n",
    "import pandas as pd\n"
   ]
  },
  {
   "cell_type": "markdown",
   "metadata": {},
   "source": [
    "For different types of features, you need to use different distributions.\n",
    "You can import statistic libraries (e.g., `scipy.stats`) for the implementation of the distributions. \n",
    "\n",
    "- For **continuous features**: Use Gaussian distribution\n",
    "    https://docs.scipy.org/doc/scipy/reference/generated/scipy.stats.norm.html\n",
    "- For **binary features**: Use Bernoulli distribution \n",
    "    https://docs.scipy.org/doc/scipy/reference/generated/scipy.stats.bernoulli.html\n",
    "- For **categorical features**: Use Multinoulli distribution (The multinoulli distribution is a special case of the multinomial distribution, where the number of trials is 1)\n",
    "    https://docs.scipy.org/doc/scipy/reference/generated/scipy.stats.multinomial.html\n",
    "\n",
    "Example: https://stackoverflow.com/questions/12412895/how-to-calculate-probability-in-a-normal-distribution-given-mean-standard-devi\n"
   ]
  },
  {
   "cell_type": "markdown",
   "metadata": {},
   "source": [
    "**Implementation Issues:**\n",
    "- The probabilities can be very small. To avoid underflow issues, you should compute the log of the probabilities. Read more: (Mur) Chapter 3.5.3 / Lecture Notes\n",
    "- The variance for Gaussian distributions should never be exactly 0, so in\n",
    "case your calculated variance is 0, you may want to set it to a small value such as 1e − 6. This is to ensure that your code never encounters division by zero or\n",
    "taking logarithms of 0 errors. \n",
    "For this practical, please set the small value to 1e-6.\n",
    "- Laplace/Additive smoothing: You want to ensure that the estimates for the parameter for the Bernoulli and Multinoulli random variables is never exactly 0 or 1. For this reason you should consider using Laplace smoothing (https://en.wikipedia.org/wiki/Additive_smoothing).\n",
    "For this practical, please set alpha to 1.\n",
    "- For simplicity, you can assume the data values for binary features are integers from {0,1} and the data for a categorical feature with M categories are integers from {0, ..., M-1}.\n",
    "- Fell free to add auxiliary functions or change the parameters of the functions. If you change the parameters of the functions, make sure you change the tests accordingly, so we can test your code.\n"
   ]
  },
  {
   "cell_type": "code",
   "execution_count": 22,
   "metadata": {},
   "outputs": [],
   "source": [
    "ALPHA = 1.0 # for additive smoothing\n",
    "\n",
    "# design logic:  estimate() and get_log_probability() get data in form of columns rather than matrix.\n",
    "# (1) if input is matrix, it can only deal with single features, \n",
    "# e.g. all binary features['b', 'b'], all category features['c', 'c']\n",
    "# (2) if input is column granularity, models can process combination features, \n",
    "# e.g. ['c','b'], ['r', 'b']...\n",
    "\n",
    "\n",
    "# Distribution for continuous features\n",
    "class ContFeatureParam:\n",
    "    def __init__(self):\n",
    "        self.mean = dict()\n",
    "        self.std = dict()\n",
    "    \n",
    "    def estimate(self, X, col_name):\n",
    "        # TODO: Estimate the parameters for the Gaussian distribution \n",
    "        # so that it best describes the input data X\n",
    "        # The code below is just for compilation. \n",
    "        # You need to replace it by your own code.\n",
    "        ###################################################\n",
    "        ##### YOUR CODE STARTS HERE #######################\n",
    "        ###################################################\n",
    "        self.mean[col_name] = np.mean(X)\n",
    "        self.std[col_name] = 1e-6 if np.std(X)==0 else np.std(X)\n",
    "        \n",
    "        ###################################################\n",
    "        ##### YOUR CODE ENDS HERE #########################\n",
    "        ###################################################\n",
    "\n",
    "    def get_log_probability(self, X_new, col_name):\n",
    "        # TODO: return the log of the density values for the input values X_new\n",
    "        # The code below is just for compilation. \n",
    "        # You need to replace it by your own code.\n",
    "        ###################################################\n",
    "        ##### YOUR CODE STARTS HERE #######################\n",
    "        ###################################################\n",
    "        return np.log(norm.pdf(X_new, self.mean[col_name], self.std[col_name]))\n",
    "        ###################################################\n",
    "        ##### YOUR CODE ENDS HERE #########################\n",
    "        ###################################################\n",
    "\n",
    "# Distribution for binary features\n",
    "class BinFeatureParam:\n",
    "    def __init__(self):\n",
    "        self.p = dict()\n",
    "        \n",
    "    def estimate(self, X, col_name):\n",
    "        # TODO: Estimate the parameters for the Bernoulli distribution \n",
    "        # so that it best describes the input data X\n",
    "        # The code below is just for compilation. \n",
    "        # You need to replace it by your own code.\n",
    "        ###################################################\n",
    "        ##### YOUR CODE STARTS HERE #######################\n",
    "        ###################################################\n",
    "        # X is a vector with binary values\n",
    "        self.p[col_name] = (X.sum()+ALPHA)/(2*ALPHA+len(X))\n",
    "        \n",
    "        ###################################################\n",
    "        ##### YOUR CODE ENDS HERE #########################\n",
    "        ###################################################\n",
    "\n",
    "    def get_log_probability(self, X_new, col_name):\n",
    "        # TODO: return the log of the probability values for the input values X_new\n",
    "        # The code below is just for compilation. \n",
    "        # You need to replace it by your own code.\n",
    "        ###################################################\n",
    "        ##### YOUR CODE STARTS HERE #######################\n",
    "        ###################################################\n",
    "        return np.log(bernoulli.pmf(X_new, self.p[col_name], loc=0))\n",
    "        ###################################################\n",
    "        ##### YOUR CODE ENDS HERE #########################\n",
    "        ###################################################\n",
    "\n",
    "# Distribution for categorical features\n",
    "class CatFeatureParam:\n",
    "    \n",
    "    # we need to know the number of categories for the categorical feature\n",
    "    def __init__(self,num_of_categories):\n",
    "        self.num_of_categories = num_of_categories\n",
    "        self.p = dict()\n",
    "    \n",
    "    def estimate(self, X, col_name, col_id):\n",
    "        # TODO: Estimate the parameters for the Multinoulli distribution \n",
    "        # so that it best describes the input data X\n",
    "        # The code below is just for compilation. \n",
    "        # You need to replace it by your own code.\n",
    "        ###################################################\n",
    "        ##### YOUR CODE STARTS HERE #######################\n",
    "        ###################################################\n",
    "        \n",
    "        p_value = dict()\n",
    "        \n",
    "        frequency = Counter(X)\n",
    "\n",
    "        total_num = len(X)\n",
    "#         category_num = len(frequency)\n",
    "        category_num = self.num_of_categories[col_id]\n",
    "        \n",
    "        for k, v in frequency.items():\n",
    "            p_value[k] = (v+ALPHA)/(total_num+ALPHA*category_num)\n",
    "        p_value['None'] = (ALPHA)/(total_num+ALPHA*category_num)\n",
    "        self.p[col_name] = p_value\n",
    "        \n",
    "        ###################################################\n",
    "        ##### YOUR CODE ENDS HERE #########################\n",
    "        ###################################################\n",
    "        \n",
    "    def get_log_probability(self, X_new, col_name):\n",
    "        # TODO: return the log of the probability values for the input values X_new\n",
    "        # The code below is just for compilation. \n",
    "        # You need to replace it by your own code.\n",
    "        ###################################################\n",
    "        ##### YOUR CODE STARTS HERE #######################\n",
    "        ###################################################\n",
    "        probs = []\n",
    "        p=self.p[col_name]\n",
    "        for i in X_new:\n",
    "            if i in p:\n",
    "                probs.append(np.log(p[i]))\n",
    "            else:\n",
    "                probs.append(np.log(p['None']))\n",
    "                \n",
    "        return np.array(probs)\n",
    "            \n",
    "        ###################################################\n",
    "        ##### YOUR CODE ENDS HERE #########################\n",
    "        ###################################################\n"
   ]
  },
  {
   "cell_type": "markdown",
   "metadata": {},
   "source": [
    "**Tests:**\n",
    "    \n",
    "We will use the code below to test the correctness of your code."
   ]
  },
  {
   "cell_type": "code",
   "execution_count": 7,
   "metadata": {},
   "outputs": [
    {
     "name": "stdout",
     "output_type": "stream",
     "text": [
      "[-5.64670664 -3.02757918 -1.44567455 -0.90099277]\n"
     ]
    }
   ],
   "source": [
    "# continuous features\n",
    "X = np.array([2.70508547,2.10499698,1.76019132,3.42016431,3.47037973,3.67435061,1.84749286,4.3388506,2.27818252,4.65165335])\n",
    "\n",
    "param = ContFeatureParam()\n",
    "param.estimate(X, 'class_1_col_1')\n",
    "probs = param.get_log_probability(np.array([0,1,2,3]), 'class_1_col_1')\n",
    "print(probs)\n"
   ]
  },
  {
   "cell_type": "code",
   "execution_count": 8,
   "metadata": {},
   "outputs": [
    {
     "name": "stdout",
     "output_type": "stream",
     "text": [
      "[-0.87546874 -0.5389965 ]\n"
     ]
    }
   ],
   "source": [
    "# binary features\n",
    "\n",
    "X = np.array([0,0,1,1,0,1,0,1,1,1])\n",
    "\n",
    "param = BinFeatureParam()\n",
    "param.estimate(X, 'class_1_col_1')\n",
    "probs = param.get_log_probability(np.array([0,1]), 'class_1_col_1')\n",
    "print(probs)"
   ]
  },
  {
   "cell_type": "code",
   "execution_count": 24,
   "metadata": {},
   "outputs": [
    {
     "name": "stdout",
     "output_type": "stream",
     "text": [
      "[-1.94591015 -2.1690537  -1.94591015 -2.45673577 -2.1690537  -2.86220088\n",
      " -1.94591015 -3.55534806 -2.1690537  -2.86220088]\n"
     ]
    }
   ],
   "source": [
    "# categorical features (bonus task)\n",
    "X = np.array([0,6,5,4,0,6,6,4,1,1,2,3,8,8,1,6,4,9,0,2,2,3,8,0,2])\n",
    "\n",
    "param = CatFeatureParam(num_of_categories=[10])\n",
    "# param = CatFeatureParam()\n",
    "param.estimate(X, 'class_1_col_1', 0)\n",
    "probs = param.get_log_probability(np.array([0,1,2,3,4,5,6,7,8,9]), 'class_1_col_1')\n",
    "print(probs)"
   ]
  },
  {
   "cell_type": "markdown",
   "metadata": {},
   "source": [
    "### Implement NBC\n",
    "\n",
    "We are now ready to implement NBC. We follow the structure of models in scikit-learn. We implement NBC as a class with functions **init**, **fit** and **predict**.\n",
    "The **init** function takes as input the types of features and initialise the classifier. The **fit** function takes the training data as input and estimates the parameters. The **predict** function predicts the label for the input data. "
   ]
  },
  {
   "cell_type": "markdown",
   "metadata": {},
   "source": [
    "**Implementation Issues:**\n",
    "- You should use matrix operations rather than loops. In general, loops over classes or features are OK, but loops over the rows of data are not a good idea.\n",
    "- The probabilities can be very small. To avoid underflow issues, you should do the calculations in log space. Read more: (Mur) Chapter 3.5.3 / Lecture Note\n",
    "- For simplicity, you can assume the data values for binary features are integers from {0, 1} and the data for a categorical feature with M categories are integers from {0, ..., M-1}.\n",
    "- Fell free to add auxiliary functions or change the parameters of the functions. If you change the parameters of the functions, make sure you change the tests accordingly, so we can test your code."
   ]
  },
  {
   "cell_type": "code",
   "execution_count": 27,
   "metadata": {},
   "outputs": [],
   "source": [
    "# Your task is to implement the three functions of NBC. \n",
    "\n",
    "class NBC:\n",
    "    # Inputs:\n",
    "    #   feature_types: the array of the types of the features, e.g., feature_types=['b', 'r', 'c']\n",
    "    def __init__(self, feature_types=[]):\n",
    "        # TODO: \n",
    "        # The code below is just for compilation. \n",
    "        # You need to replace it by your own code.\n",
    "        ###################################################\n",
    "        ##### YOUR CODE STARTS HERE #######################\n",
    "        ###################################################\n",
    "        self.feature_types = feature_types\n",
    "        \n",
    "        ###################################################\n",
    "        ##### YOUR CODE ENDS HERE #########################\n",
    "        ###################################################\n",
    "\n",
    "        \n",
    "    # The function uses the input data to estimate all the parameters of the NBC\n",
    "    def fit(self, X, y):\n",
    "        # TODO: \n",
    "        # The code below is just for compilation. \n",
    "        # You need to replace it by your own code.\n",
    "        ###################################################\n",
    "        ##### YOUR CODE STARTS HERE #######################\n",
    "        ###################################################\n",
    "        \n",
    "        # initial probability model\n",
    "        self.param_cont = ContFeatureParam()\n",
    "        self.param_binary = BinFeatureParam()\n",
    "        self.param_category = CatFeatureParam([6, 3, 11, 7, 3, 3, 2, 6, 2])\n",
    "        \n",
    "        # separate y into groups\n",
    "        class_data = dict()\n",
    "        for i in range(len(y)):\n",
    "            class_name = y[i]\n",
    "            if class_name not in class_data:\n",
    "                class_data[class_name] = []\n",
    "            class_data[class_name].append(list(X[i]))\n",
    "        \n",
    "        \n",
    "        self.class_pre_prob = dict()\n",
    "        category_num = len(class_data)\n",
    "        for class_name, matrix in class_data.items():\n",
    "            \n",
    "            # iterate by y class\n",
    "            matrix = np.array(matrix)\n",
    "            \n",
    "            for i in range(len(self.feature_types)):\n",
    "                \n",
    "                # iterate by features(columns)\n",
    "                col_type = self.feature_types[i]\n",
    "                if col_type=='c':\n",
    "                    name = \"class_\"+str(class_name)+'_col_'+str(i)\n",
    "                    self.param_category.estimate(matrix[:,i], name, i)\n",
    "                    \n",
    "                elif col_type=='b':\n",
    "                    name = \"class_\"+str(class_name)+'_col_'+str(i)\n",
    "                    self.param_binary.estimate(matrix[:,i], name)\n",
    "                \n",
    "                elif col_type=='r':\n",
    "                    name = \"class_\"+str(class_name)+'_col_'+str(i)\n",
    "                    self.param_cont.estimate(matrix[:,i], name)\n",
    "                \n",
    "                self.class_pre_prob[class_name] = (len(matrix)+ALPHA)/(len(X)+ALPHA*category_num)\n",
    "#                 self.class_pre_prob[class_name] = (len(matrix))/(len(X))\n",
    "        \n",
    "        ###################################################\n",
    "        ##### YOUR CODE ENDS HERE #########################\n",
    "        ###################################################\n",
    "        \n",
    "                \n",
    "    # The function takes the data X as input, and predicts the class for the data\n",
    "    def predict(self, X):\n",
    "        # TODO: \n",
    "        # The code below is just for compilation. \n",
    "        # You need to replace it by your own code.\n",
    "        ###################################################\n",
    "        ##### YOUR CODE STARTS HERE #######################\n",
    "        ###################################################\n",
    "        \n",
    "        \n",
    "        # columns represents y categories. Assume Y has 3 categories. \n",
    "        # initial_prob is used to record the probability in every y categories\n",
    "        # For Row1, we should choose 'A' as y label because it has the largest probability\n",
    "        #       A    B    C\n",
    "        # Row1 0.1  0.3  0.4\n",
    "        # Row2 0.3  0.1  0.2\n",
    "        \n",
    "        res = list()\n",
    "        initial_prob = np.zeros(shape = (len(X), len(self.class_pre_prob))) \n",
    "        \n",
    "        y_class_index = 0\n",
    "        for class_name, pre_prob in self.class_pre_prob.items():\n",
    "\n",
    "            # iterate y class\n",
    "            initial_prob[:,y_class_index] += np.log(pre_prob)\n",
    "            \n",
    "            for j in range(len(self.feature_types)):\n",
    "                # iterate every cols and get probability\n",
    "                \n",
    "                col_type = self.feature_types[j]\n",
    "                \n",
    "                if col_type=='c':\n",
    "                    name = \"class_\"+str(class_name)+'_col_'+str(j)\n",
    "                    prob = self.param_category.get_log_probability(X[:,j], name)\n",
    "                    \n",
    "                elif col_type=='b':\n",
    "                    name = \"class_\"+str(class_name)+'_col_'+str(j)\n",
    "                    prob = self.param_binary.get_log_probability(X[:,j], name)\n",
    "                    \n",
    "                elif col_type=='r':\n",
    "                    name = \"class_\"+str(class_name)+'_col_'+str(j)\n",
    "                    prob = self.param_cont.get_log_probability(X[:,j], name)\n",
    "                \n",
    "                initial_prob[:,y_class_index] += prob\n",
    "                \n",
    "            y_class_index+=1\n",
    "        \n",
    "        # choose the max probab\n",
    "        y_class = list(self.class_pre_prob.keys())  \n",
    "        for i in initial_prob:\n",
    "            res.append(y_class[np.argmax(i)])\n",
    "        return res\n",
    "        \n",
    "        ###################################################\n",
    "        ##### YOUR CODE ENDS HERE #########################\n",
    "        ###################################################\n"
   ]
  },
  {
   "cell_type": "markdown",
   "metadata": {},
   "source": [
    "**Tests**\n",
    "\n",
    "We will use the code below to check your code."
   ]
  },
  {
   "cell_type": "code",
   "execution_count": 14,
   "metadata": {},
   "outputs": [
    {
     "name": "stdout",
     "output_type": "stream",
     "text": [
      "Accuracy: 0.9333333333333333\n",
      "[2, 2, 2, 2, 2, 2, 2, 2, 2, 2, 2, 2, 2, 1, 1, 2, 2, 2, 2, 2, 2, 2, 2, 2, 2, 2, 2, 2, 2, 2]\n",
      "[2 2 2 2 2 2 2 2 2 2 2 2 2 2 2 2 2 2 2 2 2 2 2 2 2 2 2 2 2 2]\n"
     ]
    }
   ],
   "source": [
    "# All features of the iris dataset are continuous.\n",
    "\n",
    "from sklearn.datasets import load_iris\n",
    "iris = load_iris()\n",
    "X, y = iris['data'], iris['target']\n",
    "\n",
    "N, D = X.shape\n",
    "Ntrain = int(0.8 * N)\n",
    "Xtrain = X[:Ntrain]\n",
    "ytrain = y[:Ntrain]\n",
    "Xtest = X[Ntrain:]\n",
    "ytest = y[Ntrain:]\n",
    "\n",
    "nbc_iris = NBC(feature_types=['r', 'r', 'r', 'r'])\n",
    "nbc_iris.fit(Xtrain, ytrain)\n",
    "yhat = nbc_iris.predict(Xtest)\n",
    "test_accuracy = np.mean(yhat == ytest)\n",
    "\n",
    "print(\"Accuracy:\", test_accuracy) # should be larger than 90%\n",
    "print(yhat)\n",
    "print(ytest)"
   ]
  },
  {
   "cell_type": "code",
   "execution_count": 15,
   "metadata": {},
   "outputs": [
    {
     "name": "stdout",
     "output_type": "stream",
     "text": [
      "Accuracy: 0.8723404255319149\n",
      "[1, 0, 1, 1, 0, 1, 1, 0, 0, 1, 1, 1, 0, 1, 1, 1, 1, 1, 0, 1, 1, 0, 1, 0, 0, 1, 1, 1, 0, 1, 1, 1, 0, 1, 0, 1, 0, 0, 0, 1, 0, 0, 0, 0, 1, 1, 0]\n"
     ]
    }
   ],
   "source": [
    "# All features of this dataset are binary\n",
    "import pandas as pd\n",
    "data = pd.read_csv('./datasets/binary_test.csv', header=None)\n",
    "data = data.to_numpy()\n",
    "\n",
    "X = data[:,1:]\n",
    "y = data[:,0]\n",
    "\n",
    "N, D = X.shape\n",
    "Ntrain = int(0.8 * N)\n",
    "Xtrain = X[:Ntrain]\n",
    "ytrain = y[:Ntrain]\n",
    "Xtest = X[Ntrain:]\n",
    "ytest = y[Ntrain:]\n",
    "\n",
    "nbc = NBC(feature_types=['b'] * 16)\n",
    "nbc.fit(Xtrain, ytrain)\n",
    "yhat = nbc.predict(Xtest)\n",
    "test_accuracy = np.mean(yhat == ytest)\n",
    "\n",
    "print(\"Accuracy:\", test_accuracy) # should be larger than 85%\n",
    "print(yhat)"
   ]
  },
  {
   "cell_type": "code",
   "execution_count": 28,
   "metadata": {},
   "outputs": [
    {
     "name": "stdout",
     "output_type": "stream",
     "text": [
      "Accuracy: 0.6896551724137931\n",
      "[0, 1, 0, 1, 1, 0, 1, 1, 0, 1, 0, 0, 1, 0, 1, 0, 0, 0, 0, 0, 0, 0, 1, 0, 0, 1, 1, 0, 1, 0, 1, 0, 0, 0, 0, 1, 0, 1, 0, 0, 0, 0, 0, 0, 1, 0, 0, 0, 0, 0, 0, 0, 1, 0, 0, 0, 0, 0]\n"
     ]
    }
   ],
   "source": [
    "# All features of this dataset are categorical (bonus task)\n",
    "\n",
    "data = pd.read_csv('./datasets/categorical_test.csv', header=None)\n",
    "data = data.to_numpy()\n",
    "\n",
    "X = data[:,:-1]\n",
    "y = data[:,-1]\n",
    "\n",
    "N, D = X.shape\n",
    "Ntrain = int(0.8 * N)\n",
    "Xtrain = X[:Ntrain]\n",
    "ytrain = y[:Ntrain]\n",
    "Xtest = X[Ntrain:]\n",
    "ytest = y[Ntrain:]\n",
    "\n",
    "# feature_category_num = list()\n",
    "# for i in range(9):\n",
    "#     feature_category_num.append(len(set(X[:,i])))\n",
    "# print(feature_category_num)\n",
    "\n",
    "nbc = NBC(feature_types=['c'] * 9)\n",
    "nbc.fit(Xtrain, ytrain)\n",
    "yhat = nbc.predict(Xtest)\n",
    "test_accuracy = np.mean(yhat == ytest)\n",
    "\n",
    "print(\"Accuracy:\", test_accuracy) # should be larger than 65%\n",
    "print(yhat) "
   ]
  },
  {
   "cell_type": "markdown",
   "metadata": {},
   "source": [
    "## Logistic Regression"
   ]
  },
  {
   "cell_type": "markdown",
   "metadata": {},
   "source": [
    "For logistic regression (LR), you should use the implementation in scikit-learn. Add the following\n",
    "line to import the LR model."
   ]
  },
  {
   "cell_type": "code",
   "execution_count": 16,
   "metadata": {},
   "outputs": [],
   "source": [
    "from sklearn.linear_model import LogisticRegression"
   ]
  },
  {
   "cell_type": "markdown",
   "metadata": {},
   "source": [
    "Check the scikit-learn documentation for the Logistic Regression model:\n",
    "- http://scikit-learn.org/stable/modules/linear_model.html#logistic-regression\n",
    "- http://scikit-learn.org/stable/modules/generated/sklearn.linear_model.LogisticRegression.html#sklearn.linear_model.LogisticRegression\n"
   ]
  },
  {
   "cell_type": "markdown",
   "metadata": {},
   "source": [
    "## Comparing NBC and LR"
   ]
  },
  {
   "cell_type": "markdown",
   "metadata": {},
   "source": [
    "### Experiments\n",
    "\n",
    "The experiment is to compare the classification error of the NBC and LR trained on increasingly larger training datasets. \n",
    "Since the datasets are so small, you should do this multiple times and\n",
    "average the classification error. One run should look as follows:\n",
    "- Shuffle the data, put 20% aside for testing.\n",
    "    \n",
    "    ```N, D = X.shape\n",
    "    Ntrain = int(0.8 * N)\n",
    "    shuffler = np.random.permutation(N)\n",
    "    Xtrain = X[shuffler[:Ntrain]]\n",
    "    ytrain = y[shuffler[:Ntrain]]\n",
    "    Xtest = X[shuffler[Ntrain:]]\n",
    "    ytest = y[shuffler[Ntrain:]]\n",
    "    \n",
    "    ```  \n",
    "\n",
    "\n",
    "- Train the classifiers with increasingly more data. For example, we can train classifiers with 10%, 20%, ..., 100% of the training data. For each case store the classification errors on the test set of the classifiers.\n",
    "\n",
    "You may want to repeat this with at least 200 random permutations (possibly as large as 1000)\n",
    "to average out the test error across the runs. In the end, you will get average test errors as a function of the size of the training data. \n",
    "We have written for you the function for making the plots for the experiments. "
   ]
  },
  {
   "cell_type": "code",
   "execution_count": 17,
   "metadata": {},
   "outputs": [],
   "source": [
    "# inputs:\n",
    "#   nbc: Naive Bayes Classifier\n",
    "#   lr: Logistic Regression Classifier\n",
    "#   X, y: data\n",
    "#   num_runs: we need repeat num_runs times and store average results\n",
    "#   num_splits: we want to compare the two models on increasingly larger training sets.\n",
    "#               num_splits defines the number of increasing steps. \n",
    "# outputs:\n",
    "#   the arrays of the test errors across the runs of the two classifiers \n",
    "def compareNBCvsLR(nbc, lr, X, y, num_runs=500, num_splits=10):\n",
    "    # The code below is just for compilation. \n",
    "    # You need to replace it by your own code.\n",
    "    ###################################################\n",
    "    ##### YOUR CODE STARTS HERE #######################\n",
    "    ###################################################\n",
    "    tst_errs_nbc = []\n",
    "    tst_errs_lr = []\n",
    "    \n",
    "    N = len(X)\n",
    "    Ntrain = int(0.8 * N)\n",
    "    for train_size in range(num_splits, Ntrain+1, int(Ntrain/num_splits)):\n",
    "\n",
    "        all_runs_nbc_error = list()\n",
    "        all_runs_lr_error = list()\n",
    "        \n",
    "        for i in range(num_runs):\n",
    "        \n",
    "            # split training and testing dataset\n",
    "            flag = True\n",
    "            while flag:\n",
    "                shuffler = np.random.permutation(N)\n",
    "                Xtrain = X[shuffler[:Ntrain]]\n",
    "                ytrain = y[shuffler[:Ntrain]]\n",
    "                Xtest = X[shuffler[Ntrain:]]\n",
    "                ytest = y[shuffler[Ntrain:]]\n",
    "\n",
    "                x_sample = Xtrain[:train_size,:]\n",
    "                y_sample = ytrain[:train_size] \n",
    "                \n",
    "                if len(set(y_sample))!=1:\n",
    "                    # ensure sample has at least two categories\n",
    "                    flag = False\n",
    "                \n",
    "            # nbc\n",
    "            nbc_iris = NBC(feature_types=['r', 'r', 'r', 'r'])\n",
    "            nbc_iris.fit(x_sample, y_sample)\n",
    "            yhat = nbc_iris.predict(Xtest)\n",
    "            nbc_test_accuracy = np.mean(yhat != ytest)\n",
    "            \n",
    "    \n",
    "            # LR\n",
    "            model = lr.fit(x_sample, y_sample)\n",
    "            yhat = model.predict(Xtest)\n",
    "            lr_test_accuracy = np.mean(yhat != ytest)\n",
    "            \n",
    "            all_runs_nbc_error.append(nbc_test_accuracy)\n",
    "            all_runs_lr_error.append(lr_test_accuracy)\n",
    "        \n",
    "        tst_errs_nbc.append(np.mean(all_runs_nbc_error))\n",
    "        tst_errs_lr.append(np.mean(all_runs_lr_error))\n",
    "            \n",
    "    return tst_errs_nbc, tst_errs_lr\n",
    "    ###################################################\n",
    "    ##### YOUR CODE ENDS HERE #########################\n",
    "    ###################################################"
   ]
  },
  {
   "cell_type": "code",
   "execution_count": 18,
   "metadata": {},
   "outputs": [],
   "source": [
    "def makePlot(tst_errs_nbc, tst_errs_lr, title=None, num_splits=10):\n",
    "    fig = plt.figure()\n",
    "    ax = fig.add_subplot(1, 1, 1)\n",
    "\n",
    "    ax.tick_params(axis='both', labelsize=20)\n",
    "\n",
    "    ax.set_xlabel('Percent of training data used', fontsize=20)\n",
    "    ax.set_ylabel('Classification Error', fontsize=20)\n",
    "    if title is not None: ax.set_title(title, fontsize=25)\n",
    "\n",
    "    xaxis_scale = [(i + 1) * (100/num_splits) for i in range(num_splits)]\n",
    "    plt.plot(xaxis_scale, tst_errs_nbc, label='Naive Bayes')\n",
    "    plt.plot(xaxis_scale, tst_errs_lr, label='Logistic Regression', linestyle='dashed')\n",
    "    \n",
    "    ax.legend(loc='upper right', fontsize=20)"
   ]
  },
  {
   "cell_type": "markdown",
   "metadata": {},
   "source": [
    "### Datasets"
   ]
  },
  {
   "cell_type": "markdown",
   "metadata": {},
   "source": [
    "Tasks: For each dataset,\n",
    "1. prepare the data for the two classifiers, e.g., handle missing values, handle text/categorical data, etc.\n",
    "2. compare the two classifiers on the dataset and generate the plots\n",
    "3. write a short report of how you prepare the data and your observations of the comparison "
   ]
  },
  {
   "cell_type": "markdown",
   "metadata": {},
   "source": [
    "**Dataset 1: Iris Dataset**\n",
    "\n",
    "https://scikit-learn.org/stable/auto_examples/datasets/plot_iris_dataset.html"
   ]
  },
  {
   "cell_type": "code",
   "execution_count": 19,
   "metadata": {},
   "outputs": [
    {
     "data": {
      "image/png": "[encoded data removed]",
      "text/plain": [
       "<Figure size 720x720 with 1 Axes>"
      ]
     },
     "metadata": {
      "needs_background": "light"
     },
     "output_type": "display_data"
    }
   ],
   "source": [
    "# TODO: insert your code for experiments\n",
    "###################################################\n",
    "##### YOUR CODE STARTS HERE #######################\n",
    "###################################################\n",
    "import warnings\n",
    "warnings.filterwarnings(\"ignore\", category=RuntimeWarning)\n",
    "from warnings import simplefilter\n",
    "from sklearn.exceptions import ConvergenceWarning\n",
    "simplefilter(\"ignore\", category=ConvergenceWarning)\n",
    "\n",
    "from sklearn.datasets import load_iris\n",
    "iris = load_iris()\n",
    "\n",
    "# data = pd.DataFrame(data= np.c_[iris['data'], iris['target']], columns= iris['feature_names'] + ['target'])\n",
    "# X = data[['sepal length (cm)', 'sepal width (cm)', 'petal length (cm)', 'petal width (cm)']]\n",
    "# y = data['target']\n",
    "\n",
    "X, y = iris['data'], iris['target']\n",
    "\n",
    "lr = LogisticRegression()\n",
    "tst_errs_nbc, tst_errs_lr = compareNBCvsLR(nbc, lr, X, y)\n",
    "\n",
    "makePlot(tst_errs_nbc, tst_errs_lr, title=None, num_splits=10)\n",
    "\n",
    "\n",
    "###################################################\n",
    "##### YOUR CODE ENDS HERE #########################\n",
    "###################################################"
   ]
  },
  {
   "cell_type": "markdown",
   "metadata": {},
   "source": [
    "**Dataset 2: Voting Dataset**\n",
    "\n",
    "https://archive.ics.uci.edu/ml/datasets/congressional+voting+records\n",
    "\n",
    "The logistic regression line meets the naive bayes line early in the plot. To see it clearer, you should use only 100 data points from the dataset for this experiment."
   ]
  },
  {
   "cell_type": "code",
   "execution_count": 20,
   "metadata": {},
   "outputs": [
    {
     "data": {
      "image/png": "[encoded data removed]",
      "text/plain": [
       "<Figure size 720x720 with 1 Axes>"
      ]
     },
     "metadata": {
      "needs_background": "light"
     },
     "output_type": "display_data"
    }
   ],
   "source": [
    "# load the dataset\n",
    "# TODO: insert your code for experiments\n",
    "###################################################\n",
    "##### YOUR CODE STARTS HERE #######################\n",
    "###################################################\n",
    "voting = pd.read_csv('./datasets/voting.csv')\n",
    "\n",
    "voting_new = voting[voting.notnull().all(1)] # filter missing value\n",
    "\n",
    "x_columns = list(voting_new)\n",
    "x_columns.remove('label')\n",
    "\n",
    "X = pd.get_dummies(voting_new[x_columns]).to_numpy()\n",
    "y = voting_new['label'].to_numpy()\n",
    "\n",
    "lr = LogisticRegression()\n",
    "tst_errs_nbc, tst_errs_lr = compareNBCvsLR(nbc, lr, X, y)\n",
    "\n",
    "makePlot(tst_errs_nbc, tst_errs_lr, title=None, num_splits=10)\n",
    "\n",
    "###################################################\n",
    "##### YOUR CODE ENDS HERE #########################\n",
    "###################################################"
   ]
  },
  {
   "cell_type": "markdown",
   "metadata": {},
   "source": [
    "**Summary**\n"
   ]
  },
  {
   "cell_type": "markdown",
   "metadata": {},
   "source": [
    "||data processiing|comparison|\n",
    "|--|--|--|\n",
    "|Dataset1||When training size reach infinity(full training data), logistic regression performs better than Naive Bayes|\n",
    "|Dataset2|(1) Encode categorical data and use 0/1 to represent <br />(2) Filter missing value|discriminative algorithms tend to have better performance than generative algorithms|\n",
    "\n"
   ]
  },
  {
   "cell_type": "code",
   "execution_count": null,
   "metadata": {},
   "outputs": [],
   "source": []
  }
 ],
 "metadata": {
  "kernelspec": {
   "display_name": "Python 3",
   "language": "python",
   "name": "python3"
  },
  "language_info": {
   "codemirror_mode": {
    "name": "ipython",
    "version": 3
   },
   "file_extension": ".py",
   "mimetype": "text/x-python",
   "name": "python",
   "nbconvert_exporter": "python",
   "pygments_lexer": "ipython3",
   "version": "3.6.7"
  },
  "vscode": {
   "interpreter": {
    "hash": "aee8b7b246df8f9039afb4144a1f6fd8d2ca17a180786b69acc140d282b71a49"
   }
  }
 },
 "nbformat": 4,
 "nbformat_minor": 4
}
